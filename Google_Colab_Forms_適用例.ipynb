{
  "nbformat": 4,
  "nbformat_minor": 0,
  "metadata": {
    "colab": {
      "provenance": []
    },
    "kernelspec": {
      "name": "python3",
      "display_name": "Python 3"
    },
    "language_info": {
      "name": "python"
    }
  },
  "cells": [
    {
      "cell_type": "markdown",
      "source": [
        "## **Google ColabのForms機能_適用例**\n",
        "- **書籍『Pythonでデータを視覚化する』**の APPENDIX「Google ColabのForms機能について」で適用する **正規分布確率を算出するプログラムコード** です。\n",
        "- この Notebook で取り上げる Google Colab の Forms機能は、次の通りです。\n",
        "  - 1. セルのコードを非表示にする\n",
        "  - 2. 変数入力UIをセットする\n",
        "  - 3. ドロップダウン・スライドバー・チェックボックスUIをセットする\n",
        "  - 4. Markdownの追加と自動起動\n",
        "\n",
        "- Forms機能で実装できるUIには、他にも種類がありますので、詳しくは下記の公式\n",
        "ページを確認してください。\n",
        "  - URL：https://colab.research.google.com/notebooks/forms.ipynb\n"
      ],
      "metadata": {
        "id": "sEBsp65EnbTK"
      }
    },
    {
      "cell_type": "markdown",
      "source": [
        "## 0．正規分布確率を算出し、グラフ表示するプログラム"
      ],
      "metadata": {
        "id": "Ljt8xgAUourv"
      }
    },
    {
      "cell_type": "code",
      "source": [
        "# ライブラリ\n",
        "import numpy as np\n",
        "from scipy import stats\n",
        "from scipy.stats import norm\n",
        "import matplotlib.pyplot as plt\n",
        "\n",
        "# 期待値・標準偏差・規格値を指定\n",
        "μ = 172\n",
        "σ = 6\n",
        "x = 185\n",
        "\n",
        "# 正規分布生成･確率計算\n",
        "X = np.linspace(μ-5*σ, μ+5*σ, 100) #等差数列を生成\n",
        "norm_pdf = stats.norm.pdf(x=X, loc=μ, scale=σ) # 確率密度関数を生成\n",
        "p = norm.cdf(x=x,loc=μ,scale=σ) # 確率計算\n",
        "pdf_max = stats.norm.pdf(x=μ, loc=μ, scale=σ)\n",
        "\n",
        "# グラフ描画\n",
        "plt.figure(figsize=(6,4))\n",
        "plt.plot(X, norm_pdf, lw=3) #確率密度関数描画\n",
        "plt.vlines(x, 0, pdf_max, color=\"red\", lw=0.8) # ある値 x\n",
        "plt.vlines(μ, 0, pdf_max, lw=0.5) # 中心線 mu\n",
        "plt.hlines(0, μ-5*σ, μ+5*σ, lw=0.5) #横線\n",
        "plt.text(x+1, pdf_max-0.005, 'x', fontsize = 12) # xをグラフに表示\n",
        "\n",
        "# 結果表示\n",
        "print('【正規分布】ある値の上側・下側確率を算出しよう！')\n",
        "print('------------------------------------------------------')\n",
        "print('平均：',μ,'| 標準偏差：',σ,' | ある値 x：',x)\n",
        "plt.show()\n",
        "print('下側確率は ',p*100,'％')\n",
        "print('上側確率は ',(1-p)*100,'％')"
      ],
      "metadata": {
        "colab": {
          "base_uri": "https://localhost:8080/",
          "height": 356
        },
        "id": "ZdIkjUk3fzU1",
        "outputId": "88b4af45-3950-4708-bfcc-8ac12476f657"
      },
      "execution_count": null,
      "outputs": [
        {
          "output_type": "stream",
          "name": "stdout",
          "text": [
            "【正規分布】ある値の上側・下側確率を算出しよう！\n",
            "------------------------------------------------------\n",
            "平均： 172 | 標準偏差： 6  | ある値 x： 185\n"
          ]
        },
        {
          "output_type": "display_data",
          "data": {
            "text/plain": [
              "<Figure size 432x288 with 1 Axes>"
            ],
            "image/png": "[encoded data removed]"
          },
          "metadata": {
            "needs_background": "light"
          }
        },
        {
          "output_type": "stream",
          "name": "stdout",
          "text": [
            "下側確率は  98.48698599897642 ％\n",
            "上側確率は  1.5130140010235826 ％\n"
          ]
        }
      ]
    },
    {
      "cell_type": "markdown",
      "source": [
        "## 1．セルのコードを非表示にする\n",
        "- #@title XXX"
      ],
      "metadata": {
        "id": "iNVhFPP3pc6B"
      }
    },
    {
      "cell_type": "code",
      "source": [
        "#@title 正規分布確率計算\n",
        "\n",
        "# ライブラリ\n",
        "import numpy as np\n",
        "from scipy import stats\n",
        "from scipy.stats import norm\n",
        "import matplotlib.pyplot as plt\n",
        "\n",
        "# 期待値・標準偏差・規格値を指定\n",
        "μ = 172\n",
        "σ = 6\n",
        "x = 185\n",
        "\n",
        "# 正規分布生成･確率計算\n",
        "X = np.linspace(μ-5*σ, μ+5*σ, 100) #等差数列を生成\n",
        "norm_pdf = stats.norm.pdf(x=X, loc=μ, scale=σ) # 確率密度関数を生成\n",
        "p = norm.cdf(x=x,loc=μ,scale=σ) # 確率計算\n",
        "pdf_max = stats.norm.pdf(x=μ, loc=μ, scale=σ)\n",
        "\n",
        "# グラフ描画\n",
        "plt.figure(figsize=(6,4))\n",
        "plt.plot(X, norm_pdf, lw=3) #確率密度関数描画\n",
        "plt.vlines(x, 0, pdf_max, color=\"red\", lw=0.8) # ある値 x\n",
        "plt.vlines(μ, 0, pdf_max, lw=0.5) # 中心線 mu\n",
        "plt.hlines(0, μ-5*σ, μ+5*σ, lw=0.5) #横線\n",
        "plt.text(x+1, pdf_max-0.005, 'x', fontsize = 12) # xをグラフに表示\n",
        "\n",
        "# 結果表示\n",
        "print('【正規分布】ある値の上側・下側確率を算出しよう！')\n",
        "print('------------------------------------------------------')\n",
        "print('平均：',μ,'| 標準偏差：',σ,' | ある値 x：',x)\n",
        "plt.show()\n",
        "print('下側確率は ',p*100,'％')\n",
        "print('上側確率は ',(1-p)*100,'％')"
      ],
      "metadata": {
        "colab": {
          "base_uri": "https://localhost:8080/",
          "height": 356
        },
        "id": "EVG6SL6u_Adx",
        "outputId": "a9c6ef7a-80c8-4520-ddda-c6b528828cb5",
        "cellView": "form"
      },
      "execution_count": null,
      "outputs": [
        {
          "output_type": "stream",
          "name": "stdout",
          "text": [
            "【正規分布】ある値の上側・下側確率を算出しよう！\n",
            "------------------------------------------------------\n",
            "平均： 172 | 標準偏差： 6  | ある値 x： 185\n"
          ]
        },
        {
          "output_type": "display_data",
          "data": {
            "text/plain": [
              "<Figure size 432x288 with 1 Axes>"
            ],
            "image/png": "[encoded data removed]"
          },
          "metadata": {
            "needs_background": "light"
          }
        },
        {
          "output_type": "stream",
          "name": "stdout",
          "text": [
            "下側確率は  98.48698599897642 ％\n",
            "上側確率は  1.5130140010235826 ％\n"
          ]
        }
      ]
    },
    {
      "cell_type": "markdown",
      "source": [
        "## 2．変数入力UIをセットする\n",
        "- @param {type:\"number\"}"
      ],
      "metadata": {
        "id": "Fubgg-PnprMD"
      }
    },
    {
      "cell_type": "code",
      "source": [
        "#@title 正規分布確率計算\n",
        "\n",
        "# ライブラリ\n",
        "import numpy as np\n",
        "from scipy import stats\n",
        "from scipy.stats import norm\n",
        "import matplotlib.pyplot as plt\n",
        "\n",
        "# 期待値・標準偏差・規格値を指定\n",
        "μ = 172 #@param {type:\"number\"}\n",
        "σ = 6 #@param {type:\"number\"}\n",
        "x = 185 #@param {type:\"number\"}\n",
        "\n",
        "# 正規分布生成･確率計算\n",
        "X = np.linspace(μ-5*σ, μ+5*σ, 100) #等差数列を生成\n",
        "norm_pdf = stats.norm.pdf(x=X, loc=μ, scale=σ) # 確率密度関数を生成\n",
        "p = norm.cdf(x=x,loc=μ,scale=σ) # 確率計算\n",
        "pdf_max = stats.norm.pdf(x=μ, loc=μ, scale=σ)\n",
        "\n",
        "# グラフ描画\n",
        "plt.figure(figsize=(6,4))\n",
        "plt.plot(X, norm_pdf, lw=3) #確率密度関数描画\n",
        "plt.vlines(x, 0, pdf_max, color=\"red\", lw=0.8) # ある値 x\n",
        "plt.vlines(μ, 0, pdf_max, lw=0.5) # 中心線 mu\n",
        "plt.hlines(0, μ-5*σ, μ+5*σ, lw=0.5) #横線\n",
        "plt.text(x+1, pdf_max-0.005, 'x', fontsize = 12) # xをグラフに表示\n",
        "\n",
        "# 結果表示\n",
        "print('【正規分布】ある値の上側・下側確率を算出しよう！')\n",
        "print('------------------------------------------------------')\n",
        "print('平均：',μ,'| 標準偏差：',σ,' | ある値 x：',x)\n",
        "plt.show()\n",
        "print('下側確率は ',p*100,'％')\n",
        "print('上側確率は ',(1-p)*100,'％')"
      ],
      "metadata": {
        "colab": {
          "base_uri": "https://localhost:8080/",
          "height": 356
        },
        "cellView": "form",
        "id": "K9KtUz6KA6Km",
        "outputId": "e43bd734-e5b3-4b24-d1fb-5938b27cd8c9"
      },
      "execution_count": null,
      "outputs": [
        {
          "output_type": "stream",
          "name": "stdout",
          "text": [
            "【正規分布】ある値の上側・下側確率を算出しよう！\n",
            "------------------------------------------------------\n",
            "平均： 172 | 標準偏差： 6  | ある値 x： 185\n"
          ]
        },
        {
          "output_type": "display_data",
          "data": {
            "text/plain": [
              "<Figure size 432x288 with 1 Axes>"
            ],
            "image/png": "[encoded data removed]"
          },
          "metadata": {
            "needs_background": "light"
          }
        },
        {
          "output_type": "stream",
          "name": "stdout",
          "text": [
            "下側確率は  98.48698599897642 ％\n",
            "上側確率は  1.5130140010235826 ％\n"
          ]
        }
      ]
    },
    {
      "cell_type": "markdown",
      "source": [
        "## 3．ドロップダウン・スライドバー・チェックボックスUIをセットする\n",
        "- #@param [\"A\",\"B\",\"C\"]\n",
        "- #@param {type:\"slider\", min:XXX, max:XXX, step:XXX}\n",
        "- #@param {type:\"boolean\"}"
      ],
      "metadata": {
        "id": "RMCOU38bqJGj"
      }
    },
    {
      "cell_type": "code",
      "source": [
        "#@title 正規分布確率計算\n",
        "\n",
        "# ライブラリ\n",
        "import numpy as np\n",
        "from scipy import stats\n",
        "from scipy.stats import norm\n",
        "import matplotlib.pyplot as plt\n",
        "\n",
        "# 期待値・標準偏差・規格値を指定\n",
        "μ = 172 #@param {type:\"number\"}\n",
        "σ = 6 #@param {type:\"number\"}\n",
        "x = 185 #@param {type:\"number\"}\n",
        "\n",
        "# 正規分布生成･確率計算\n",
        "X = np.linspace(μ-5*σ, μ+5*σ, 100) #等差数列を生成\n",
        "norm_pdf = stats.norm.pdf(x=X, loc=μ, scale=σ) # 確率密度関数を生成\n",
        "p = norm.cdf(x=x,loc=μ,scale=σ) # 確率計算\n",
        "pdf_max = stats.norm.pdf(x=μ, loc=μ, scale=σ)\n",
        "\n",
        "# グラフ描画\n",
        "line_color = 'gray' #@param [\"gray\",\"darkblue\", \"black\"]\n",
        "fig_size_ratio = 0.6 #@param {type:\"slider\", min:0.5, max:2, step:0.1}\n",
        "fig_output = True #@param {type:\"boolean\"}\n",
        "\n",
        "if fig_output == True:\n",
        "  plt.figure(figsize=(6*fig_size_ratio,4*fig_size_ratio))\n",
        "  plt.plot(X, norm_pdf, color=line_color,lw=3) #確率密度関数描画\n",
        "  plt.vlines(x, 0, pdf_max, color=\"red\", lw=0.8) # ある値 x\n",
        "  plt.vlines(μ, 0, pdf_max, lw=0.5) # 中心線 mu\n",
        "  plt.hlines(0, μ-5*σ, μ+5*σ, lw=0.5) #横線\n",
        "  plt.text(x+1, pdf_max-0.005, 'x', fontsize = 12) # xをグラフに表示\n",
        "\n",
        "# 結果表示\n",
        "print('【正規分布】ある値の上側・下側確率を算出しよう！')\n",
        "print('------------------------------------------------------')\n",
        "print('平均：',μ,'| 標準偏差：',σ,' | ある値 x：',x)\n",
        "plt.show()\n",
        "print('下側確率は ',p*100,'％')\n",
        "print('上側確率は ',(1-p)*100,'％')"
      ],
      "metadata": {
        "colab": {
          "base_uri": "https://localhost:8080/",
          "height": 269
        },
        "cellView": "form",
        "id": "vnWGC_4gCt0W",
        "outputId": "4b4d755f-f632-46e5-ccc5-a30a6dd761ee"
      },
      "execution_count": null,
      "outputs": [
        {
          "output_type": "stream",
          "name": "stdout",
          "text": [
            "【正規分布】ある値の上側・下側確率を算出しよう！\n",
            "------------------------------------------------------\n",
            "平均： 172 | 標準偏差： 6  | ある値 x： 185\n"
          ]
        },
        {
          "output_type": "display_data",
          "data": {
            "text/plain": [
              "<Figure size 259.2x172.8 with 1 Axes>"
            ],
            "image/png": "[encoded data removed]"
          },
          "metadata": {
            "needs_background": "light"
          }
        },
        {
          "output_type": "stream",
          "name": "stdout",
          "text": [
            "下側確率は  98.48698599897642 ％\n",
            "上側確率は  1.5130140010235826 ％\n"
          ]
        }
      ]
    },
    {
      "cell_type": "markdown",
      "source": [
        "## 4．Markdownの追加と自動起動\n",
        "- #@markdown XXX\n",
        "- {run: 'auto'}\n"
      ],
      "metadata": {
        "id": "11bynGMzq9SY"
      }
    },
    {
      "cell_type": "code",
      "source": [
        "#@title 正規分布確率計算 {run: 'auto'}\n",
        "#@markdown  **<font color= \"Crimson\">使い方</font>**：実行する前に **μ, σ, x** を入力してください。**line_color**でグラフ線の色、**fig_size**でグラフサイズが変更できます。グラフ非表示にしたい時は**fig_output**の☑を外してください。</font>\n",
        "\n",
        "# ライブラリ\n",
        "import numpy as np\n",
        "from scipy import stats\n",
        "from scipy.stats import norm\n",
        "import matplotlib.pyplot as plt\n",
        "\n",
        "# 期待値・標準偏差・規格値を指定\n",
        "μ = 172 #@param {type:\"number\"}\n",
        "σ = 6 #@param {type:\"number\"}\n",
        "x = 185 #@param {type:\"number\"}\n",
        "\n",
        "# 正規分布生成･確率計算\n",
        "X = np.linspace(μ-5*σ, μ+5*σ, 100) #等差数列を生成\n",
        "norm_pdf = stats.norm.pdf(x=X, loc=μ, scale=σ) # 確率密度関数を生成\n",
        "p = norm.cdf(x=x,loc=μ,scale=σ) # 確率計算\n",
        "pdf_max = stats.norm.pdf(x=μ, loc=μ, scale=σ)\n",
        "\n",
        "# グラフ描画\n",
        "line_color = 'darkblue' #@param [\"gray\",\"darkblue\", \"black\"]\n",
        "fig_size_ratio = 0.6 #@param {type:\"slider\", min:0.5, max:2, step:0.1}\n",
        "fig_output = False #@param {type:\"boolean\"}\n",
        "\n",
        "if fig_output == True:\n",
        "  plt.figure(figsize=(6*fig_size_ratio,4*fig_size_ratio))\n",
        "  plt.plot(X, norm_pdf, color=line_color,lw=3) #確率密度関数描画\n",
        "  plt.vlines(x, 0, pdf_max, color=\"red\", lw=0.8) # ある値 x\n",
        "  plt.vlines(μ, 0, pdf_max, lw=0.5) # 中心線 mu\n",
        "  plt.hlines(0, μ-5*σ, μ+5*σ, lw=0.5) #横線\n",
        "  plt.text(x+1, pdf_max-0.005, 'x', fontsize = 12) # xをグラフに表示\n",
        "\n",
        "# 結果表示\n",
        "print('【正規分布】ある値の上側・下側確率を算出しよう！')\n",
        "print('------------------------------------------------------')\n",
        "print('平均：',μ,'| 標準偏差：',σ,' | ある値 x：',x)\n",
        "plt.show()\n",
        "print('下側確率は ',p*100,'％')\n",
        "print('上側確率は ',(1-p)*100,'％')"
      ],
      "metadata": {
        "id": "VgnkcEQ6DtZx",
        "colab": {
          "base_uri": "https://localhost:8080/"
        },
        "outputId": "0858d035-a2d6-4e19-a610-bc9da8f9bd9c",
        "cellView": "form"
      },
      "execution_count": null,
      "outputs": [
        {
          "output_type": "stream",
          "name": "stdout",
          "text": [
            "【正規分布】ある値の上側・下側確率を算出しよう！\n",
            "------------------------------------------------------\n",
            "平均： 172 | 標準偏差： 6  | ある値 x： 185\n",
            "下側確率は  98.48698599897642 ％\n",
            "上側確率は  1.5130140010235826 ％\n"
          ]
        }
      ]
    }
  ]
}